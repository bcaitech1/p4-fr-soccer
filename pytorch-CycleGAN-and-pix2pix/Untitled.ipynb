{
 "cells": [
  {
   "cell_type": "code",
   "execution_count": null,
   "id": "e26434e1-4967-47e6-b61e-cd536539f2b6",
   "metadata": {},
   "outputs": [],
   "source": [
    "!python test.py --dataroot /opt/ml/input/data/cleaning_dataset/testA --name datacleaningv3 --model test --no_dropout --gpu_ids 0"
   ]
  },
  {
   "cell_type": "code",
   "execution_count": 3,
   "id": "27723bc9-8eef-4838-b390-fb5e8c3c0561",
   "metadata": {},
   "outputs": [
    {
     "data": {
      "text/plain": [
       "'1.4.0'"
      ]
     },
     "execution_count": 3,
     "metadata": {},
     "output_type": "execute_result"
    }
   ],
   "source": [
    "import torch\n",
    "torch.__version__"
   ]
  },
  {
   "cell_type": "code",
   "execution_count": null,
   "id": "df970508-e31a-4b25-b6d0-e79a4bb90f80",
   "metadata": {},
   "outputs": [],
   "source": []
  }
 ],
 "metadata": {
  "kernelspec": {
   "display_name": "Python 3",
   "language": "python",
   "name": "python3"
  },
  "language_info": {
   "codemirror_mode": {
    "name": "ipython",
    "version": 3
   },
   "file_extension": ".py",
   "mimetype": "text/x-python",
   "name": "python",
   "nbconvert_exporter": "python",
   "pygments_lexer": "ipython3",
   "version": "3.7.7"
  }
 },
 "nbformat": 4,
 "nbformat_minor": 5
}
